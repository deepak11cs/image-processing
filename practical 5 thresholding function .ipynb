{
 "cells": [
  {
   "cell_type": "code",
   "execution_count": 13,
   "metadata": {},
   "outputs": [],
   "source": [
    "import cv2\n",
    "import numpy as np\n",
    "\n",
    "img= cv2.imread('prac1.jpg')\n",
    "\n",
    "\n",
    "grayscaled=cv2.cvtColor(img,cv2.COLOR_BGR2GRAY)\n",
    "\n",
    "retval2, threshold2= cv2.threshold(grayscaled,200,255, cv2.THRESH_BINARY )\n",
    "gaus= cv2.adaptiveThreshold(grayscaled,255,cv2.ADAPTIVE_THRESH_GAUSSIAN_C, cv2.THRESH_BINARY,15,1 )\n",
    "\n",
    "img=cv2.resize(img,(500,500))\n",
    "threshold2=cv2.resize(threshold2,(500,500))\n",
    "gaus=cv2.resize(gaus,(500,500))\n",
    "grayscaled=cv2.resize(grayscaled,(500,500))\n",
    "cv2.imshow('original',img)\n",
    "cv2.imshow('grayscaled',grayscaled)\n",
    "cv2.imshow('threshold2',threshold2)\n",
    "cv2.imshow('gaus', gaus)\n",
    "\n",
    "cv2.waitKey(0)\n",
    "\n",
    "cv2.destroyAllWindows()"
   ]
  },
  {
   "cell_type": "code",
   "execution_count": null,
   "metadata": {},
   "outputs": [],
   "source": []
  }
 ],
 "metadata": {
  "kernelspec": {
   "display_name": "Python 3",
   "language": "python",
   "name": "python3"
  },
  "language_info": {
   "codemirror_mode": {
    "name": "ipython",
    "version": 3
   },
   "file_extension": ".py",
   "mimetype": "text/x-python",
   "name": "python",
   "nbconvert_exporter": "python",
   "pygments_lexer": "ipython3",
   "version": "3.7.3"
  }
 },
 "nbformat": 4,
 "nbformat_minor": 2
}
